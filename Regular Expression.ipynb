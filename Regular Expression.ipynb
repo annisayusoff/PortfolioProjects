{
 "cells": [
  {
   "cell_type": "code",
   "execution_count": 47,
   "id": "cef6f088-c144-415e-ad4b-986a7914819d",
   "metadata": {},
   "outputs": [],
   "source": [
    "import re"
   ]
  },
  {
   "cell_type": "code",
   "execution_count": 41,
   "id": "0ec4eabf-3896-4d5f-bd63-efd57b63ab8c",
   "metadata": {},
   "outputs": [
    {
     "name": "stdout",
     "output_type": "stream",
     "text": [
      "True\n",
      "False\n"
     ]
    }
   ],
   "source": [
    "### 1) Write a Python program to check that a string contains only a certain set of characters (in this case a-z, A-Z and 0-9).\n",
    "\n",
    "def check(string) :\n",
    "    pattern = r'[^a-zA-Z0-9]'\n",
    "    y = re.search(pattern,string)\n",
    "    return not bool(y)\n",
    "\n",
    "print(check(\"ABCDEFabcdef123450\"))\n",
    "print(check(\"*&%@#!}{\"))"
   ]
  },
  {
   "cell_type": "code",
   "execution_count": 59,
   "id": "bc19170e-9c24-48d7-ad23-d956a7451b0c",
   "metadata": {},
   "outputs": [
    {
     "name": "stdout",
     "output_type": "stream",
     "text": [
      "Found a match!\n",
      "Found a match!\n",
      "Found a match!\n"
     ]
    }
   ],
   "source": [
    "### 2) Write a Python program that matches a string that has an a followed by zero or more b's\n",
    "\n",
    "def check(string):\n",
    "    pattern = r'ab*'\n",
    "    y = re.search(pattern,string)\n",
    "    if y:\n",
    "        return \"Found a match!\"\n",
    "    else:\n",
    "        return \"Not matched!\"\n",
    "\n",
    "print(check(\"ac\"))\n",
    "print(check(\"abc\"))\n",
    "print(check(\"abbc\"))"
   ]
  },
  {
   "cell_type": "code",
   "execution_count": 67,
   "id": "f343bf91-c861-4ab9-8d21-605ebd8ba820",
   "metadata": {},
   "outputs": [
    {
     "name": "stdout",
     "output_type": "stream",
     "text": [
      "Found a match!\n",
      "Found a match!\n"
     ]
    }
   ],
   "source": [
    "### 3) Write a Python program that matches a string that has an a followed by one or more b's\n",
    "\n",
    "def check(string):\n",
    "    pattern = r'ab+'\n",
    "    y = re.search(pattern,string)\n",
    "    if y:\n",
    "        return \"Found a match!\"\n",
    "    else:\n",
    "        return \"Not matched!\"\n",
    "\n",
    "print(check(\"ab\"))\n",
    "print(check(\"abc\"))"
   ]
  },
  {
   "cell_type": "code",
   "execution_count": 71,
   "id": "0f20ff09-74fa-4656-867c-25609fa47790",
   "metadata": {},
   "outputs": [
    {
     "name": "stdout",
     "output_type": "stream",
     "text": [
      "Not matched\n",
      "Found a match\n",
      "Found a match\n",
      "Found a match\n",
      "Found a match\n"
     ]
    }
   ],
   "source": [
    "### 4) Write a Python program that matches a string that has an a followed by zero or one 'b'\n",
    "\n",
    "def check(string):\n",
    "    pattern = r'ab?'\n",
    "    y = re.search(pattern,string)\n",
    "    if y:\n",
    "        return \"Found a match\"\n",
    "    else:\n",
    "        return \"Not matched\"\n",
    "\n",
    "print(check(\"b\"))\n",
    "print(check(\"ab\"))\n",
    "print(check(\"ac\"))\n",
    "print(check(\"abbc\"))\n",
    "print(check(\"aabbc\"))"
   ]
  },
  {
   "cell_type": "code",
   "execution_count": 76,
   "id": "127e73a0-5bdf-4297-824e-7d99674fd7f8",
   "metadata": {},
   "outputs": [
    {
     "name": "stdout",
     "output_type": "stream",
     "text": [
      "Not matched\n",
      "Not matched\n",
      "Found a match\n"
     ]
    }
   ],
   "source": [
    "### 5) Write a Python program that matches a string that has an a followed by zero or one 'b'\n",
    "\n",
    "def check(string):\n",
    "    pattern = r'ab{3}'\n",
    "    y = re.search(pattern,string)\n",
    "    if y:\n",
    "        return \"Found a match\"\n",
    "    else:\n",
    "        return \"Not matched\"\n",
    "\n",
    "print(check(\"ab\"))\n",
    "print(check(\"aabbc\"))\n",
    "print(check(\"aabbbc\"))"
   ]
  },
  {
   "cell_type": "code",
   "execution_count": 85,
   "id": "ac87495e-ab1d-4893-8f9c-4298720a5e78",
   "metadata": {},
   "outputs": [
    {
     "name": "stdout",
     "output_type": "stream",
     "text": [
      "Not matched\n",
      "Found a match\n",
      "Found a match\n"
     ]
    }
   ],
   "source": [
    "### 6) Write a Python program that matches a string that has an a followed by two to three 'b'.\n",
    "\n",
    "def check(string):\n",
    "    pattern = r'ab{2,3}'\n",
    "    y = re.search(pattern,string)\n",
    "    if y:\n",
    "        return \"Found a match\"\n",
    "    else:\n",
    "        return \"Not matched\"\n",
    "\n",
    "print(check(\"ab\"))\n",
    "print(check(\"aabbbbbc\"))\n",
    "print(check(\"abb\"))"
   ]
  },
  {
   "cell_type": "code",
   "execution_count": 115,
   "id": "3509efd2-6e0c-479c-8c9d-3c198c1b5621",
   "metadata": {},
   "outputs": [
    {
     "name": "stdout",
     "output_type": "stream",
     "text": [
      "Found a match\n",
      "Not matched\n",
      "Not matched\n",
      "Not matched\n"
     ]
    }
   ],
   "source": [
    "### 7) Write a Python program to find sequences of lowercase letters joined with a underscore.\n",
    "\n",
    "def check(string):\n",
    "    pattern = r'^[a-z]+_[a-z]+$'\n",
    "    y = re.search(pattern,string)\n",
    "    if y:\n",
    "        return \"Found a match\"\n",
    "    else:\n",
    "        return \"Not matched\"\n",
    "\n",
    "print(check(\"aaa_cbbbc\"))\n",
    "print(check(\"aab_BBsD\"))\n",
    "print(check(\"Annnl_abbbc\"))\n",
    "print(check(\"aaa_BBBBCC\"))"
   ]
  },
  {
   "cell_type": "code",
   "execution_count": 122,
   "id": "57ecc1ee-7b12-4779-995c-8cf15336194a",
   "metadata": {},
   "outputs": [
    {
     "name": "stdout",
     "output_type": "stream",
     "text": [
      "Not matched\n",
      "Found a match\n",
      "Not matched\n",
      "Not matched\n",
      "Not matched\n",
      "Not matched\n"
     ]
    }
   ],
   "source": [
    "### 8) Write a Python program to find the sequences of one upper case letter followed by lower case letters.\n",
    "\n",
    "def check(string):\n",
    "    pattern = r'^[A-Z]{1}_[a-z]+$'\n",
    "    y = re.search(pattern,string)\n",
    "    if y:\n",
    "        return \"Found a match\"\n",
    "    else:\n",
    "        return \"Not matched\"\n",
    "\n",
    "print(check(\"a_cbbbc\"))\n",
    "print(check(\"B_cbbbc\"))\n",
    "print(check(\"AB_cbbbc\"))\n",
    "print(check(\"aab_BBsD\"))\n",
    "print(check(\"Annnl_abbbc\"))\n",
    "print(check(\"aaa_BBBBCC\"))"
   ]
  },
  {
   "cell_type": "code",
   "execution_count": 140,
   "id": "6a414768-872e-48fe-9cc6-02ce92487308",
   "metadata": {},
   "outputs": [
    {
     "name": "stdout",
     "output_type": "stream",
     "text": [
      "Not matched\n",
      "Found a match\n",
      "Found a match\n"
     ]
    }
   ],
   "source": [
    "### 9) Write a Python program that matches a string that has an 'a' followed by anything, ending in 'b'.\n",
    "\n",
    "def check(string):\n",
    "    pattern = r'a.*b$'\n",
    "    y = re.search(pattern,string)\n",
    "    if y:\n",
    "        return \"Found a match\"\n",
    "    else:\n",
    "        return \"Not matched\"\n",
    "\n",
    "print(check('askbfadv'))\n",
    "print(check('askfadb'))   \n",
    "print(check('ab'))"
   ]
  },
  {
   "cell_type": "code",
   "execution_count": 145,
   "id": "2050c582-2ea7-4008-b40d-4acd5888ee2f",
   "metadata": {},
   "outputs": [
    {
     "name": "stdout",
     "output_type": "stream",
     "text": [
      "Found a match\n",
      "Not matched\n"
     ]
    }
   ],
   "source": [
    "### 10) Write a Python program that matches a word at the beginning of a string.\n",
    "\n",
    "def check(string):\n",
    "    pattern = r'^\\w+'\n",
    "    y = re.search(pattern,string)\n",
    "    if y:\n",
    "        return \"Found a match\"\n",
    "    else:\n",
    "        return \"Not matched\"\n",
    "\n",
    "print(check(\"The quick brown fox jumps over the lazy dog.\"))\n",
    "print(check(\"   The quick brown fox jumps over the lazy dog.\"))"
   ]
  },
  {
   "cell_type": "code",
   "execution_count": 154,
   "id": "b0c9a884-7253-4471-abd1-660d105863fe",
   "metadata": {},
   "outputs": [
    {
     "name": "stdout",
     "output_type": "stream",
     "text": [
      "Found a match\n",
      "Not matched\n",
      "Not matched\n",
      "Found a match\n"
     ]
    }
   ],
   "source": [
    "### 11) Write a Python program that matches a word at the end of string, with optional punctuation.\n",
    "\n",
    "def check(string):\n",
    "    pattern = r'\\w+[.]*\\S*$'\n",
    "    y = re.search(pattern,string)\n",
    "    if y:\n",
    "        return \"Found a match\"\n",
    "    else:\n",
    "        return \"Not matched\"\n",
    "\n",
    "print(check(\"The quick brown fox jumps over the lazy dog.\"))\n",
    "print(check(\"The quick brown fox jumps over the lazy dog. \"))\n",
    "print(check(\"The quick brown fox jumps over the lazy dog \"))\n",
    "print(check(\"The quick brown fox jumps over the lazy dog\"))"
   ]
  },
  {
   "cell_type": "code",
   "execution_count": 157,
   "id": "d2e2e36c-0251-4e4e-ba4d-0c3afa61ced6",
   "metadata": {},
   "outputs": [
    {
     "name": "stdout",
     "output_type": "stream",
     "text": [
      "Found a match\n",
      "Not matched\n"
     ]
    }
   ],
   "source": [
    "### 12) Write a Python program that matches a word containing 'z'\n",
    "\n",
    "def check(string):\n",
    "    pattern = r'z+'\n",
    "    y = re.search(pattern,string)\n",
    "    if y:\n",
    "        return \"Found a match\"\n",
    "    else:\n",
    "        return \"Not matched\"\n",
    "\n",
    "print(check(\"The quick brown fox jumps over the lazy dog.\"))\n",
    "print(check(\"Python Exercises.\"))"
   ]
  },
  {
   "cell_type": "code",
   "execution_count": 164,
   "id": "449a753c-c0da-48e3-8a36-e615b6d682ef",
   "metadata": {},
   "outputs": [
    {
     "name": "stdout",
     "output_type": "stream",
     "text": [
      "Not matched!\n",
      "Not matched!\n",
      "Found a match!\n"
     ]
    }
   ],
   "source": [
    "### 13) Write a Python program that matches a word containing 'z', not at the start or end of the word.\n",
    "\n",
    "def check(string):\n",
    "    # pattern = r'^z|z$'\n",
    "    pattern = r'\\Bz\\B'\n",
    "    y = re.search(pattern,string)\n",
    "    if y:\n",
    "        return \"Found a match!\"\n",
    "    else:\n",
    "        return \"Not matched!\"\n",
    "\n",
    "print(check(\"zaa\"))\n",
    "print(check(\"aaaz\"))\n",
    "print(check(\"aaza\"))"
   ]
  },
  {
   "cell_type": "code",
   "execution_count": 179,
   "id": "626ec13e-543d-4180-bea7-c6d18ab7bea1",
   "metadata": {},
   "outputs": [
    {
     "name": "stdout",
     "output_type": "stream",
     "text": [
      "Found a match!\n",
      "Not matched!\n"
     ]
    }
   ],
   "source": [
    "### 14) Write a Python program to match a string that contains only upper and lowercase letters, numbers, and underscores.\n",
    "\n",
    "def check(string):\n",
    "    pattern = r'^[a-zA-Z0-9_]*$'\n",
    "    y = re.search(pattern,string)\n",
    "    if y:\n",
    "        return \"Found a match!\"\n",
    "    else:\n",
    "        return \"Not matched!\"\n",
    "\n",
    "print(check(\"aa_1234\"))\n",
    "print(check(\"*)93_1294\"))"
   ]
  },
  {
   "cell_type": "code",
   "execution_count": 182,
   "id": "aad0c08b-0194-43f6-8a68-289624bde3f8",
   "metadata": {},
   "outputs": [
    {
     "name": "stdout",
     "output_type": "stream",
     "text": [
      "Found a match!\n",
      "Not matched!\n"
     ]
    }
   ],
   "source": [
    "### 15) Write a Python program where a string will start with a specific number.\n",
    "\n",
    "def check(string):\n",
    "    pattern = r'^5'\n",
    "    y = re.search(pattern,string)\n",
    "    if y:\n",
    "        return \"Found a match!\"\n",
    "    else:\n",
    "        return \"Not matched!\"\n",
    "\n",
    "print(check('5-2345861'))\n",
    "print(check('6-2345861'))"
   ]
  },
  {
   "cell_type": "code",
   "execution_count": 202,
   "id": "eaa2b447-db2b-41b7-ab81-1148c2a9da44",
   "metadata": {},
   "outputs": [
    {
     "name": "stdout",
     "output_type": "stream",
     "text": [
      "216.8.94.196\n"
     ]
    }
   ],
   "source": [
    "### 16) Write a Python program to remove leading zeros from an IP address\n",
    "\n",
    "def remove(ip):\n",
    "    pattern = r'[.][0]*'\n",
    "    ip_new = re.sub(pattern, '.', ip)\n",
    "    print(ip_new)\n",
    "\n",
    "remove(\"216.08.094.196\")"
   ]
  },
  {
   "cell_type": "code",
   "execution_count": 205,
   "id": "d3b954f4-060f-4199-9cac-5a18818ab77b",
   "metadata": {},
   "outputs": [
    {
     "name": "stdout",
     "output_type": "stream",
     "text": [
      "Found a match!\n",
      "Not matched!\n"
     ]
    }
   ],
   "source": [
    "### 17) Write a Python program to check for a number at the end of a string.\n",
    "\n",
    "def check(string):\n",
    "    pattern = r'.*[0-9]$'\n",
    "    y = re.search(pattern, string)\n",
    "    if y:\n",
    "        return \"Found a match!\"\n",
    "    else:\n",
    "        return \"Not matched!\"\n",
    "\n",
    "print(check('bjadb9'))\n",
    "print(check('asoan'))"
   ]
  },
  {
   "cell_type": "code",
   "execution_count": 228,
   "id": "17da3f58-6706-415e-bbe7-be9db5ea2f9c",
   "metadata": {},
   "outputs": [
    {
     "name": "stdout",
     "output_type": "stream",
     "text": [
      "Number of length 1 to 3\n",
      "2\n",
      "299\n",
      "99\n",
      "None\n"
     ]
    }
   ],
   "source": [
    "### 18) Write a Python program to search the numbers (0-9) of length between 1 to 3 in a given string.\n",
    "\n",
    "def check(string):\n",
    "    pattern = r'[0-9]{1,3}'\n",
    "    y = re.finditer(pattern, string)\n",
    "    print(\"Number of length 1 to 3\")\n",
    "    for n in y:\n",
    "        print(n.group(0))\n",
    "\n",
    "print(check('sa2dnk29999m'))"
   ]
  },
  {
   "cell_type": "code",
   "execution_count": 238,
   "id": "e8bc0b4f-9e09-4ea1-82bf-9a9a0e4c80e6",
   "metadata": {},
   "outputs": [
    {
     "name": "stdout",
     "output_type": "stream",
     "text": [
      "Searching for 'fox' in 'The quick brown fox jumps over the lazy dog.'\n",
      "Matched!\n",
      "Searching for 'dog' in 'The quick brown fox jumps over the lazy dog.'\n",
      "Matched!\n",
      "Searching for 'horse' in 'The quick brown fox jumps over the lazy dog.'\n",
      "Not Matched!\n",
      "None\n"
     ]
    }
   ],
   "source": [
    "### 19) Write a Python program to search some literals strings in a string. Go to the editor Sample text : 'The quick brown fox jumps over the lazy dog.' Searched words : 'fox', 'dog', 'horse'\n",
    "\n",
    "def check(string):\n",
    "    patterns = ['fox', 'dog', 'horse']\n",
    "    for pattern in patterns:\n",
    "        y = re.search(pattern, string)\n",
    "        print(f\"Searching for '{pattern}' in '{string}'\")\n",
    "        if y:\n",
    "            print(\"Matched!\")\n",
    "        else:\n",
    "            print(\"Not Matched!\")\n",
    "\n",
    "print(check('The quick brown fox jumps over the lazy dog.'))"
   ]
  },
  {
   "cell_type": "code",
   "execution_count": 244,
   "id": "4c688c28-f9a6-4c65-8bf7-f4c9a3898471",
   "metadata": {},
   "outputs": [
    {
     "name": "stdout",
     "output_type": "stream",
     "text": [
      "Searching for 'fox' in 'The quick brown fox jumps over the lazy dog.'\n",
      "Matched! It occurs in 'The quick brown fox jumps over the lazy dog.' from 16 to 19\n",
      "Searching for 'dog' in 'The quick brown fox jumps over the lazy dog.'\n",
      "Matched! It occurs in 'The quick brown fox jumps over the lazy dog.' from 40 to 43\n",
      "Searching for 'horse' in 'The quick brown fox jumps over the lazy dog.'\n",
      "Not Matched!\n",
      "None\n"
     ]
    }
   ],
   "source": [
    "### 20) Write a Python program to search a literals string in a string and also find the location within the original string where the pattern occurs\n",
    "###     Sample text : 'The quick brown fox jumps over the lazy dog.' Searched words : 'fox'\n",
    "\n",
    "def check(string):\n",
    "    patterns = ['fox', 'dog', 'horse']\n",
    "    for pattern in patterns:\n",
    "        y = re.search(pattern, string)\n",
    "        print(f\"Searching for '{pattern}' in '{string}'\")\n",
    "        if y:\n",
    "            print(f\"Matched! It occurs in '{string}' from {y.start()} to {y.end()}\")\n",
    "        else:\n",
    "            print(\"Not Matched!\")\n",
    "\n",
    "print(check('The quick brown fox jumps over the lazy dog.'))"
   ]
  },
  {
   "cell_type": "code",
   "execution_count": 248,
   "id": "14b6548a-9e91-4690-9134-f1179102f682",
   "metadata": {},
   "outputs": [
    {
     "name": "stdout",
     "output_type": "stream",
     "text": [
      "Found \"exercises\" in \"Python exercises, PHP exercises, C# exercises\"\n",
      "Found \"exercises\" in \"Python exercises, PHP exercises, C# exercises\"\n",
      "Found \"exercises\" in \"Python exercises, PHP exercises, C# exercises\"\n"
     ]
    }
   ],
   "source": [
    "### 21) Write a Python program to find the substrings within a string.\n",
    "###     Sample text :\n",
    "###     'Python exercises, PHP exercises, C# exercises'\n",
    "###     Pattern :\n",
    "###     'exercises'\n",
    "###     Note: There are two instances of exercises in the input string.\n",
    "\n",
    "# Solution\n",
    "text = 'Python exercises, PHP exercises, C# exercises'\n",
    "pattern = 'exercises'\n",
    "y = re.findall(pattern, text)\n",
    "for match in y:\n",
    "    print(f'Found \"{match}\" in \"{text}\"')"
   ]
  },
  {
   "cell_type": "code",
   "execution_count": 252,
   "id": "2f89133c-44ae-4101-a0bf-2b112ddaf0fd",
   "metadata": {},
   "outputs": [
    {
     "name": "stdout",
     "output_type": "stream",
     "text": [
      "Found 'exercises'! It occurs in 'Python exercises, PHP exercises, C# exercises' from 7 to 16\n",
      "Found 'exercises'! It occurs in 'Python exercises, PHP exercises, C# exercises' from 22 to 31\n",
      "Found 'exercises'! It occurs in 'Python exercises, PHP exercises, C# exercises' from 36 to 45\n"
     ]
    }
   ],
   "source": [
    "### 22) Write a Python program to find the occurrence and position of the substrings within a string.\n",
    "\n",
    "text = 'Python exercises, PHP exercises, C# exercises'\n",
    "pattern = 'exercises'\n",
    "y = re.finditer(pattern, text)\n",
    "for match in y:\n",
    "    s = match.start()\n",
    "    e = match.end()\n",
    "    print(f\"Found '{text[s:e]}'! It occurs in '{text}' from {s} to {e}\")"
   ]
  },
  {
   "cell_type": "code",
   "execution_count": 268,
   "id": "7443f42a-2a28-49c6-ab16-0658b289a32b",
   "metadata": {},
   "outputs": [
    {
     "name": "stdout",
     "output_type": "stream",
     "text": [
      "Print_the_output\n",
      "Print the output\n"
     ]
    }
   ],
   "source": [
    "### 23) Write a Python program to replace whitespaces with an underscore and vice versa.\n",
    "\n",
    "def subs(string):\n",
    "    if ' ' in string:\n",
    "        y = re.sub(r'\\s', '_', string)\n",
    "        return y\n",
    "    if '_' in string:\n",
    "        z = re.sub(r'_', ' ', string)\n",
    "        return z\n",
    "\n",
    "print(subs(\"Print the output\"))\n",
    "print(subs(\"Print_the_output\"))"
   ]
  },
  {
   "cell_type": "code",
   "execution_count": 273,
   "id": "15119485-7e70-44e6-9752-0e1066da4f72",
   "metadata": {},
   "outputs": [
    {
     "name": "stdout",
     "output_type": "stream",
     "text": [
      "['2016/09/02']\n"
     ]
    }
   ],
   "source": [
    "### 24) Write a Python program to extract year, month and date from a an url.\n",
    "\n",
    "def extract_date(url):\n",
    "    pattern = r'\\d{4}/\\d{1,2}/\\d{1,2}'\n",
    "    y = re.findall(pattern, url)\n",
    "    return y\n",
    "\n",
    "url1= \"https://www.washingtonpost.com/news/football-insider/wp/2016/09/02/odell-beckhams-fame-rests-on-one-stupid-little-ball-josh-norman-tells-author/\"\n",
    "print(extract_date(url1))"
   ]
  },
  {
   "cell_type": "code",
   "execution_count": 278,
   "id": "a1f584df-8179-4e1b-839b-b3bd44943ef1",
   "metadata": {},
   "outputs": [
    {
     "name": "stdout",
     "output_type": "stream",
     "text": [
      "Original date in YYY-MM-DD Format:  2026-01-02\n",
      "New date in DD-MM-YYYY Format:  02-01-2026\n"
     ]
    }
   ],
   "source": [
    "### 25) Write a Python program to convert a date of yyyy-mm-dd format to dd-mm-yyyy format.\n",
    "\n",
    "def change_date_format(date):\n",
    "    pattern = r'(\\d{4})-(\\d{1,2})-(\\d{1,2})'\n",
    "    y = re.sub(pattern, '\\\\3-\\\\2-\\\\1', date)\n",
    "    return y\n",
    "\n",
    "dt1 = \"2026-01-02\"\n",
    "print(\"Original date in YYY-MM-DD Format: \",dt1)\n",
    "print(\"New date in DD-MM-YYYY Format: \",change_date_format(dt1))"
   ]
  },
  {
   "cell_type": "code",
   "execution_count": 282,
   "id": "2240ae7f-94a3-41f3-988d-02be6e70c3ec",
   "metadata": {},
   "outputs": [
    {
     "name": "stdout",
     "output_type": "stream",
     "text": [
      "Not matched. 'pool' does not start with 'P'\n",
      "Yes, 'Pool' starts with 'P'\n"
     ]
    }
   ],
   "source": [
    "### 26) Write a Python program to match if two words from a list of words starting with letter 'P'.\n",
    "\n",
    "def check(list):\n",
    "    pattern = r'^P.*'\n",
    "    for x in list:\n",
    "        y = re.match(pattern, x)\n",
    "        if y:\n",
    "            print(f\"Yes, '{x}' starts with 'P'\")\n",
    "        else:\n",
    "            print(f\"Not matched. '{x}' does not start with 'P'\")\n",
    "\n",
    "l = ['pool','Pool']\n",
    "check(l)"
   ]
  },
  {
   "cell_type": "code",
   "execution_count": 284,
   "id": "510bebff-9827-4bfa-bef0-d90e590cb17b",
   "metadata": {},
   "outputs": [
    {
     "name": "stdout",
     "output_type": "stream",
     "text": [
      "\n",
      "10\n",
      "20\n",
      "30\n"
     ]
    }
   ],
   "source": [
    "### 27) Write a Python program to separate and print the numbers of a given string.\n",
    "\n",
    "string = \"Ten 10, Twenty 20, Thirty 30\"\n",
    "result = re.split(\"\\D+\", text)\n",
    "for element in result:\n",
    "    print(element)"
   ]
  },
  {
   "cell_type": "code",
   "execution_count": 313,
   "id": "82b1c263-7c5f-4925-b878-e40610ada8c1",
   "metadata": {},
   "outputs": [
    {
     "name": "stdout",
     "output_type": "stream",
     "text": [
      "['example', 'an', 'a', 'elements', 'elements', 'are', 'added', 'and', 'accordingly']\n",
      "['a']\n"
     ]
    }
   ],
   "source": [
    "### 28) Write a Python program to find all words starting with 'a' or 'e' in a given string.\n",
    "\n",
    "def check(string):\n",
    "    pattern = r'\\b[ae]\\w*'\n",
    "    y = re.findall(pattern, string)\n",
    "    return y\n",
    "\n",
    "string = \"The following example creates an ArrayList with a capacity of 50 elements. Four elements are then added to the ArrayList and the ArrayList is trimmed accordingly.\"\n",
    "print(check(string))\n",
    "\n",
    "str2 = \"a ball\"\n",
    "print(check(str2))"
   ]
  },
  {
   "cell_type": "code",
   "execution_count": 315,
   "id": "33f0e54f-3791-4f71-b0ad-5d05b6470d4b",
   "metadata": {},
   "outputs": [
    {
     "name": "stdout",
     "output_type": "stream",
     "text": [
      "50\n",
      "Index position: 62\n"
     ]
    }
   ],
   "source": [
    "### 29) Write a Python program to separate and print the numbers and their position of a given string.\n",
    "\n",
    "# Input.\n",
    "text = \"The following example creates an ArrayList with a capacity of 50 elements. Four elements are then added to the ArrayList and the ArrayList is trimmed accordingly.\"\n",
    "\n",
    "pattern = r'\\d+'\n",
    "y = re.finditer(pattern, text)\n",
    "for m in y:\n",
    "    print(m.group(0))\n",
    "    print(\"Index position:\", m.start())"
   ]
  }
 ],
 "metadata": {
  "kernelspec": {
   "display_name": "Python 3 (ipykernel)",
   "language": "python",
   "name": "python3"
  },
  "language_info": {
   "codemirror_mode": {
    "name": "ipython",
    "version": 3
   },
   "file_extension": ".py",
   "mimetype": "text/x-python",
   "name": "python",
   "nbconvert_exporter": "python",
   "pygments_lexer": "ipython3",
   "version": "3.11.4"
  }
 },
 "nbformat": 4,
 "nbformat_minor": 5
}
