{
 "cells": [
  {
   "cell_type": "markdown",
   "id": "07ef0347",
   "metadata": {},
   "source": [
    "# IMPORT AND SET UP"
   ]
  },
  {
   "cell_type": "code",
   "execution_count": 746,
   "id": "74e64f39",
   "metadata": {},
   "outputs": [],
   "source": [
    "import pandas as pd\n",
    "import numpy as np\n",
    "import matplotlib.pyplot as plt\n",
    "import seaborn as sns\n",
    "%matplotlib inline\n",
    "import nltk\n",
    "\n",
    "sns.set_style('darkgrid')"
   ]
  },
  {
   "cell_type": "code",
   "execution_count": 747,
   "id": "b22c4704",
   "metadata": {},
   "outputs": [],
   "source": [
    "#nltk.download_shell()"
   ]
  },
  {
   "cell_type": "code",
   "execution_count": 748,
   "id": "bdc6551b",
   "metadata": {},
   "outputs": [
    {
     "data": {
      "text/plain": [
       "['ham\\tGo until jurong point, crazy.. Available only in bugis n great world la e buffet... Cine there got amore wat...',\n",
       " 'ham\\tOk lar... Joking wif u oni...',\n",
       " \"spam\\tFree entry in 2 a wkly comp to win FA Cup final tkts 21st May 2005. Text FA to 87121 to receive entry question(std txt rate)T&C's apply 08452810075over18's\",\n",
       " 'ham\\tU dun say so early hor... U c already then say...',\n",
       " \"ham\\tNah I don't think he goes to usf, he lives around here though\"]"
      ]
     },
     "execution_count": 748,
     "metadata": {},
     "output_type": "execute_result"
    }
   ],
   "source": [
    "# import data\n",
    "\n",
    "messages = [line.rstrip() for line in open('smsspamcollection/SMSSpamCollection')]\n",
    "messages[0:5]"
   ]
  },
  {
   "cell_type": "code",
   "execution_count": 749,
   "id": "906d52cd",
   "metadata": {},
   "outputs": [],
   "source": [
    "# since we can see there is tab separator in above output ('\\t'), \n",
    "# let's import data using pandas and set the separator\n",
    "\n",
    "messages = pd.read_csv('smsspamcollection/SMSSpamCollection', sep='\\t', names=['label','message'])"
   ]
  },
  {
   "cell_type": "markdown",
   "id": "5039f2d9",
   "metadata": {},
   "source": [
    "# DATA EXPLORATION"
   ]
  },
  {
   "cell_type": "code",
   "execution_count": 750,
   "id": "4a55366a",
   "metadata": {},
   "outputs": [
    {
     "data": {
      "text/html": [
       "<div>\n",
       "<style scoped>\n",
       "    .dataframe tbody tr th:only-of-type {\n",
       "        vertical-align: middle;\n",
       "    }\n",
       "\n",
       "    .dataframe tbody tr th {\n",
       "        vertical-align: top;\n",
       "    }\n",
       "\n",
       "    .dataframe thead th {\n",
       "        text-align: right;\n",
       "    }\n",
       "</style>\n",
       "<table border=\"1\" class=\"dataframe\">\n",
       "  <thead>\n",
       "    <tr style=\"text-align: right;\">\n",
       "      <th></th>\n",
       "      <th>label</th>\n",
       "      <th>message</th>\n",
       "    </tr>\n",
       "  </thead>\n",
       "  <tbody>\n",
       "    <tr>\n",
       "      <th>0</th>\n",
       "      <td>ham</td>\n",
       "      <td>Go until jurong point, crazy.. Available only ...</td>\n",
       "    </tr>\n",
       "    <tr>\n",
       "      <th>1</th>\n",
       "      <td>ham</td>\n",
       "      <td>Ok lar... Joking wif u oni...</td>\n",
       "    </tr>\n",
       "    <tr>\n",
       "      <th>2</th>\n",
       "      <td>spam</td>\n",
       "      <td>Free entry in 2 a wkly comp to win FA Cup fina...</td>\n",
       "    </tr>\n",
       "    <tr>\n",
       "      <th>3</th>\n",
       "      <td>ham</td>\n",
       "      <td>U dun say so early hor... U c already then say...</td>\n",
       "    </tr>\n",
       "    <tr>\n",
       "      <th>4</th>\n",
       "      <td>ham</td>\n",
       "      <td>Nah I don't think he goes to usf, he lives aro...</td>\n",
       "    </tr>\n",
       "  </tbody>\n",
       "</table>\n",
       "</div>"
      ],
      "text/plain": [
       "  label                                            message\n",
       "0   ham  Go until jurong point, crazy.. Available only ...\n",
       "1   ham                      Ok lar... Joking wif u oni...\n",
       "2  spam  Free entry in 2 a wkly comp to win FA Cup fina...\n",
       "3   ham  U dun say so early hor... U c already then say...\n",
       "4   ham  Nah I don't think he goes to usf, he lives aro..."
      ]
     },
     "execution_count": 750,
     "metadata": {},
     "output_type": "execute_result"
    }
   ],
   "source": [
    "messages.head()"
   ]
  },
  {
   "cell_type": "code",
   "execution_count": 751,
   "id": "b0bb908d",
   "metadata": {},
   "outputs": [
    {
     "name": "stdout",
     "output_type": "stream",
     "text": [
      "<class 'pandas.core.frame.DataFrame'>\n",
      "RangeIndex: 5572 entries, 0 to 5571\n",
      "Data columns (total 2 columns):\n",
      " #   Column   Non-Null Count  Dtype \n",
      "---  ------   --------------  ----- \n",
      " 0   label    5572 non-null   object\n",
      " 1   message  5572 non-null   object\n",
      "dtypes: object(2)\n",
      "memory usage: 87.2+ KB\n"
     ]
    }
   ],
   "source": [
    "messages.info()"
   ]
  },
  {
   "cell_type": "markdown",
   "id": "a82477a9",
   "metadata": {},
   "source": [
    "There are 5572 rows in this data frame.\n"
   ]
  },
  {
   "cell_type": "code",
   "execution_count": 752,
   "id": "a63a544f",
   "metadata": {},
   "outputs": [
    {
     "data": {
      "text/html": [
       "<div>\n",
       "<style scoped>\n",
       "    .dataframe tbody tr th:only-of-type {\n",
       "        vertical-align: middle;\n",
       "    }\n",
       "\n",
       "    .dataframe tbody tr th {\n",
       "        vertical-align: top;\n",
       "    }\n",
       "\n",
       "    .dataframe thead th {\n",
       "        text-align: right;\n",
       "    }\n",
       "</style>\n",
       "<table border=\"1\" class=\"dataframe\">\n",
       "  <thead>\n",
       "    <tr style=\"text-align: right;\">\n",
       "      <th></th>\n",
       "      <th>label</th>\n",
       "      <th>message</th>\n",
       "    </tr>\n",
       "  </thead>\n",
       "  <tbody>\n",
       "    <tr>\n",
       "      <th>count</th>\n",
       "      <td>5572</td>\n",
       "      <td>5572</td>\n",
       "    </tr>\n",
       "    <tr>\n",
       "      <th>unique</th>\n",
       "      <td>2</td>\n",
       "      <td>5169</td>\n",
       "    </tr>\n",
       "    <tr>\n",
       "      <th>top</th>\n",
       "      <td>ham</td>\n",
       "      <td>Sorry, I'll call later</td>\n",
       "    </tr>\n",
       "    <tr>\n",
       "      <th>freq</th>\n",
       "      <td>4825</td>\n",
       "      <td>30</td>\n",
       "    </tr>\n",
       "  </tbody>\n",
       "</table>\n",
       "</div>"
      ],
      "text/plain": [
       "       label                 message\n",
       "count   5572                    5572\n",
       "unique     2                    5169\n",
       "top      ham  Sorry, I'll call later\n",
       "freq    4825                      30"
      ]
     },
     "execution_count": 752,
     "metadata": {},
     "output_type": "execute_result"
    }
   ],
   "source": [
    "messages.describe()"
   ]
  },
  {
   "cell_type": "markdown",
   "id": "f4dcdb8d",
   "metadata": {},
   "source": [
    "There are 2 unique subjects in 'label' which is 'spam' and 'ham' and 5169 in message. This means that there are similiar messages in the 'message' column. <br/>\n",
    "\n",
    "Now let's group the messages by label and see the summary."
   ]
  },
  {
   "cell_type": "code",
   "execution_count": 753,
   "id": "45e49ac7",
   "metadata": {},
   "outputs": [
    {
     "data": {
      "text/html": [
       "<div>\n",
       "<style scoped>\n",
       "    .dataframe tbody tr th:only-of-type {\n",
       "        vertical-align: middle;\n",
       "    }\n",
       "\n",
       "    .dataframe tbody tr th {\n",
       "        vertical-align: top;\n",
       "    }\n",
       "\n",
       "    .dataframe thead tr th {\n",
       "        text-align: left;\n",
       "    }\n",
       "\n",
       "    .dataframe thead tr:last-of-type th {\n",
       "        text-align: right;\n",
       "    }\n",
       "</style>\n",
       "<table border=\"1\" class=\"dataframe\">\n",
       "  <thead>\n",
       "    <tr>\n",
       "      <th></th>\n",
       "      <th colspan=\"4\" halign=\"left\">message</th>\n",
       "    </tr>\n",
       "    <tr>\n",
       "      <th></th>\n",
       "      <th>count</th>\n",
       "      <th>unique</th>\n",
       "      <th>top</th>\n",
       "      <th>freq</th>\n",
       "    </tr>\n",
       "    <tr>\n",
       "      <th>label</th>\n",
       "      <th></th>\n",
       "      <th></th>\n",
       "      <th></th>\n",
       "      <th></th>\n",
       "    </tr>\n",
       "  </thead>\n",
       "  <tbody>\n",
       "    <tr>\n",
       "      <th>ham</th>\n",
       "      <td>4825</td>\n",
       "      <td>4516</td>\n",
       "      <td>Sorry, I'll call later</td>\n",
       "      <td>30</td>\n",
       "    </tr>\n",
       "    <tr>\n",
       "      <th>spam</th>\n",
       "      <td>747</td>\n",
       "      <td>653</td>\n",
       "      <td>Please call our customer service representativ...</td>\n",
       "      <td>4</td>\n",
       "    </tr>\n",
       "  </tbody>\n",
       "</table>\n",
       "</div>"
      ],
      "text/plain": [
       "      message                                                               \n",
       "        count unique                                                top freq\n",
       "label                                                                       \n",
       "ham      4825   4516                             Sorry, I'll call later   30\n",
       "spam      747    653  Please call our customer service representativ...    4"
      ]
     },
     "execution_count": 753,
     "metadata": {},
     "output_type": "execute_result"
    }
   ],
   "source": [
    "# describe by label column\n",
    "\n",
    "messages.groupby('label').describe()"
   ]
  },
  {
   "cell_type": "code",
   "execution_count": 754,
   "id": "930611e4",
   "metadata": {},
   "outputs": [
    {
     "data": {
      "text/plain": [
       "'Please call our customer service representative on FREEPHONE 0808 145 4742 between 9am-11pm as you have WON a guaranteed £1000 cash or £5000 prize!'"
      ]
     },
     "execution_count": 754,
     "metadata": {},
     "output_type": "execute_result"
    }
   ],
   "source": [
    "messages.groupby('label').describe()['message']['top']['spam']"
   ]
  },
  {
   "cell_type": "markdown",
   "id": "f5cc82c7",
   "metadata": {},
   "source": [
    "We can see that most messages for ham is 'Sorry I'll call later' and for spam is 'Please call our customer service representative on FREEPHONE 0808 145 4742 between 9am-11pm as you have WON a guaranteed £1000 cash or £5000 prize!' <br/> <br/>\n",
    "\n",
    "Let's add a column which is length of messages and explore it."
   ]
  },
  {
   "cell_type": "code",
   "execution_count": 755,
   "id": "663dd95c",
   "metadata": {},
   "outputs": [
    {
     "data": {
      "text/html": [
       "<div>\n",
       "<style scoped>\n",
       "    .dataframe tbody tr th:only-of-type {\n",
       "        vertical-align: middle;\n",
       "    }\n",
       "\n",
       "    .dataframe tbody tr th {\n",
       "        vertical-align: top;\n",
       "    }\n",
       "\n",
       "    .dataframe thead th {\n",
       "        text-align: right;\n",
       "    }\n",
       "</style>\n",
       "<table border=\"1\" class=\"dataframe\">\n",
       "  <thead>\n",
       "    <tr style=\"text-align: right;\">\n",
       "      <th></th>\n",
       "      <th>label</th>\n",
       "      <th>message</th>\n",
       "      <th>length</th>\n",
       "    </tr>\n",
       "  </thead>\n",
       "  <tbody>\n",
       "    <tr>\n",
       "      <th>0</th>\n",
       "      <td>ham</td>\n",
       "      <td>Go until jurong point, crazy.. Available only ...</td>\n",
       "      <td>111</td>\n",
       "    </tr>\n",
       "    <tr>\n",
       "      <th>1</th>\n",
       "      <td>ham</td>\n",
       "      <td>Ok lar... Joking wif u oni...</td>\n",
       "      <td>29</td>\n",
       "    </tr>\n",
       "    <tr>\n",
       "      <th>2</th>\n",
       "      <td>spam</td>\n",
       "      <td>Free entry in 2 a wkly comp to win FA Cup fina...</td>\n",
       "      <td>155</td>\n",
       "    </tr>\n",
       "    <tr>\n",
       "      <th>3</th>\n",
       "      <td>ham</td>\n",
       "      <td>U dun say so early hor... U c already then say...</td>\n",
       "      <td>49</td>\n",
       "    </tr>\n",
       "    <tr>\n",
       "      <th>4</th>\n",
       "      <td>ham</td>\n",
       "      <td>Nah I don't think he goes to usf, he lives aro...</td>\n",
       "      <td>61</td>\n",
       "    </tr>\n",
       "  </tbody>\n",
       "</table>\n",
       "</div>"
      ],
      "text/plain": [
       "  label                                            message  length\n",
       "0   ham  Go until jurong point, crazy.. Available only ...     111\n",
       "1   ham                      Ok lar... Joking wif u oni...      29\n",
       "2  spam  Free entry in 2 a wkly comp to win FA Cup fina...     155\n",
       "3   ham  U dun say so early hor... U c already then say...      49\n",
       "4   ham  Nah I don't think he goes to usf, he lives aro...      61"
      ]
     },
     "execution_count": 755,
     "metadata": {},
     "output_type": "execute_result"
    }
   ],
   "source": [
    "# add new length column\n",
    "\n",
    "messages['length'] = messages['message'].apply(len)\n",
    "messages.head()"
   ]
  },
  {
   "cell_type": "code",
   "execution_count": 756,
   "id": "b01b5f79",
   "metadata": {},
   "outputs": [
    {
     "name": "stderr",
     "output_type": "stream",
     "text": [
      "C:\\Users\\nannisaymy\\Anaconda3\\lib\\site-packages\\seaborn\\distributions.py:2619: FutureWarning: `distplot` is a deprecated function and will be removed in a future version. Please adapt your code to use either `displot` (a figure-level function with similar flexibility) or `histplot` (an axes-level function for histograms).\n",
      "  warnings.warn(msg, FutureWarning)\n"
     ]
    },
    {
     "data": {
      "text/plain": [
       "<AxesSubplot:xlabel='length'>"
      ]
     },
     "execution_count": 756,
     "metadata": {},
     "output_type": "execute_result"
    },
    {
     "data": {
      "image/png": "[encoded data removed]",
      "text/plain": [
       "<Figure size 1200x500 with 1 Axes>"
      ]
     },
     "metadata": {},
     "output_type": "display_data"
    }
   ],
   "source": [
    "# plot length of messages\n",
    "\n",
    "plt.figure(figsize=(12,5))\n",
    "sns.distplot(messages['length'], kde=False, color='brown')"
   ]
  },
  {
   "cell_type": "markdown",
   "id": "e2103ba5",
   "metadata": {},
   "source": [
    "Distribution of the length of messages is bimodal, centred around 50 and 160."
   ]
  },
  {
   "cell_type": "code",
   "execution_count": 757,
   "id": "85a2f524",
   "metadata": {},
   "outputs": [
    {
     "data": {
      "text/plain": [
       "count    5572.000000\n",
       "mean       80.489950\n",
       "std        59.942907\n",
       "min         2.000000\n",
       "25%        36.000000\n",
       "50%        62.000000\n",
       "75%       122.000000\n",
       "max       910.000000\n",
       "Name: length, dtype: float64"
      ]
     },
     "execution_count": 757,
     "metadata": {},
     "output_type": "execute_result"
    }
   ],
   "source": [
    "# summary of length\n",
    "\n",
    "messages['length'].describe()"
   ]
  },
  {
   "cell_type": "markdown",
   "id": "2777d356",
   "metadata": {},
   "source": [
    "The shortest message has 2 letters while the longest has 910 letters. Let's see these messages."
   ]
  },
  {
   "cell_type": "code",
   "execution_count": 758,
   "id": "0c8ed519",
   "metadata": {},
   "outputs": [
    {
     "data": {
      "text/html": [
       "<div>\n",
       "<style scoped>\n",
       "    .dataframe tbody tr th:only-of-type {\n",
       "        vertical-align: middle;\n",
       "    }\n",
       "\n",
       "    .dataframe tbody tr th {\n",
       "        vertical-align: top;\n",
       "    }\n",
       "\n",
       "    .dataframe thead th {\n",
       "        text-align: right;\n",
       "    }\n",
       "</style>\n",
       "<table border=\"1\" class=\"dataframe\">\n",
       "  <thead>\n",
       "    <tr style=\"text-align: right;\">\n",
       "      <th></th>\n",
       "      <th>label</th>\n",
       "      <th>message</th>\n",
       "      <th>length</th>\n",
       "    </tr>\n",
       "  </thead>\n",
       "  <tbody>\n",
       "    <tr>\n",
       "      <th>1925</th>\n",
       "      <td>ham</td>\n",
       "      <td>Ok</td>\n",
       "      <td>2</td>\n",
       "    </tr>\n",
       "    <tr>\n",
       "      <th>3051</th>\n",
       "      <td>ham</td>\n",
       "      <td>Ok</td>\n",
       "      <td>2</td>\n",
       "    </tr>\n",
       "    <tr>\n",
       "      <th>4498</th>\n",
       "      <td>ham</td>\n",
       "      <td>Ok</td>\n",
       "      <td>2</td>\n",
       "    </tr>\n",
       "    <tr>\n",
       "      <th>5357</th>\n",
       "      <td>ham</td>\n",
       "      <td>Ok</td>\n",
       "      <td>2</td>\n",
       "    </tr>\n",
       "  </tbody>\n",
       "</table>\n",
       "</div>"
      ],
      "text/plain": [
       "     label message  length\n",
       "1925   ham      Ok       2\n",
       "3051   ham      Ok       2\n",
       "4498   ham      Ok       2\n",
       "5357   ham      Ok       2"
      ]
     },
     "execution_count": 758,
     "metadata": {},
     "output_type": "execute_result"
    }
   ],
   "source": [
    "messages[messages['length']==2]"
   ]
  },
  {
   "cell_type": "code",
   "execution_count": 759,
   "id": "3fe8b1a2",
   "metadata": {},
   "outputs": [
    {
     "data": {
      "text/plain": [
       "\"For me the love should start with attraction.i should feel that I need her every time around me.she should be the first thing which comes in my thoughts.I would start the day and end it with her.she should be there every time I dream.love will be then when my every breath has her name.my life should happen around her.my life will be named to her.I would cry for her.will give all my happiness and take all her sorrows.I will be ready to fight with anyone for her.I will be in love when I will be doing the craziest things for her.love will be when I don't have to proove anyone that my girl is the most beautiful lady on the whole planet.I will always be singing praises for her.love will be when I start up making chicken curry and end up makiing sambar.life will be the most beautiful then.will get every morning and thank god for the day because she is with me.I would like to say a lot..will tell later..\""
      ]
     },
     "execution_count": 759,
     "metadata": {},
     "output_type": "execute_result"
    }
   ],
   "source": [
    "messages[messages['length']==910]['message'].iloc[0]"
   ]
  },
  {
   "cell_type": "markdown",
   "id": "a73fd6ad",
   "metadata": {},
   "source": [
    "Now, we will plot the histogram of length of messages and separate it by label."
   ]
  },
  {
   "cell_type": "code",
   "execution_count": 760,
   "id": "3c927c4f",
   "metadata": {},
   "outputs": [
    {
     "data": {
      "image/png": "[encoded data removed]",
      "text/plain": [
       "<Figure size 1200x500 with 2 Axes>"
      ]
     },
     "metadata": {},
     "output_type": "display_data"
    }
   ],
   "source": [
    "plt.figure(figsize=(12,5))\n",
    "plt.subplot(1,2,1)\n",
    "plt.hist(messages[messages['label']=='ham']['length'], bins=50, color='brown')\n",
    "plt.title('ham')\n",
    "plt.subplot(1,2,2)\n",
    "plt.hist(messages[messages['label']=='spam']['length'], bins=50, color='brown')\n",
    "plt.title('spam')\n",
    "plt.show()"
   ]
  },
  {
   "cell_type": "markdown",
   "id": "fe628194",
   "metadata": {},
   "source": [
    "We can see that spam messages tend to have more characters than ham messages.<br/>\n",
    "Ham messages centered around 50 and spam messages centered around 160."
   ]
  },
  {
   "cell_type": "markdown",
   "id": "32e33698",
   "metadata": {},
   "source": [
    "# TEXT PREPROCESSING\n",
    "\n",
    "In this section, we will create a function that will remove the punctuations and common words from the messages.<br/> \n",
    "Also, we will transform the string of messages into a list of words.<br/>\n",
    "The punctuations is listed in 'string' library and common words in 'stopwords'."
   ]
  },
  {
   "cell_type": "code",
   "execution_count": 761,
   "id": "315f1738",
   "metadata": {},
   "outputs": [],
   "source": [
    "import string                       #to remove punctuations\n",
    "from nltk.corpus import stopwords   #to remove common words"
   ]
  },
  {
   "cell_type": "code",
   "execution_count": 762,
   "id": "c8508ec7",
   "metadata": {},
   "outputs": [],
   "source": [
    "def text_preprocessing(message) :\n",
    "    # remove punctuation \n",
    "    words_no_punc = [word for word in message if word not in string.punctuation]\n",
    "    \n",
    "    # join characters in words_no_punc\n",
    "    words_no_punc = ''.join(words_no_punc)\n",
    "    \n",
    "    # remove common words on stopwords\n",
    "    return [word for word in words_no_punc.split() if word.lower() not in stopwords.words('english')]"
   ]
  },
  {
   "cell_type": "markdown",
   "id": "0a6bafa8",
   "metadata": {},
   "source": [
    "Now that the function is ready, let's apply it to some messages and see the result."
   ]
  },
  {
   "cell_type": "code",
   "execution_count": 763,
   "id": "1ef9afb8",
   "metadata": {},
   "outputs": [
    {
     "data": {
      "text/plain": [
       "0    [Go, jurong, point, crazy, Available, bugis, n...\n",
       "1                       [Ok, lar, Joking, wif, u, oni]\n",
       "2    [Free, entry, 2, wkly, comp, win, FA, Cup, fin...\n",
       "3        [U, dun, say, early, hor, U, c, already, say]\n",
       "4    [Nah, dont, think, goes, usf, lives, around, t...\n",
       "Name: message, dtype: object"
      ]
     },
     "execution_count": 763,
     "metadata": {},
     "output_type": "execute_result"
    }
   ],
   "source": [
    "messages['message'].head(5).apply(text_preprocessing)"
   ]
  },
  {
   "cell_type": "markdown",
   "id": "51e73c92",
   "metadata": {},
   "source": [
    "# VECTORIZATION\n",
    "\n",
    "Now that we have our messages in form of words or tokens, we will convert this into vector so that machine learning can understand. <br/>\n",
    "\n",
    "We will do this by :\n",
    "1. Count the number of times a word appear in a message.\n",
    "2. Weigh and normalize the counts, so that frequent tokens get lower weight (term frequency-inverse document    frequency)"
   ]
  },
  {
   "cell_type": "code",
   "execution_count": 765,
   "id": "7cddbcaf",
   "metadata": {},
   "outputs": [],
   "source": [
    "from sklearn.feature_extraction.text import CountVectorizer"
   ]
  },
  {
   "cell_type": "markdown",
   "id": "dba07f42",
   "metadata": {},
   "source": [
    "Step 1 :"
   ]
  },
  {
   "cell_type": "code",
   "execution_count": 766,
   "id": "5123d0f0",
   "metadata": {},
   "outputs": [],
   "source": [
    "bow_transformer = CountVectorizer(analyzer=text_preprocessing).fit(messages['message'])"
   ]
  },
  {
   "cell_type": "markdown",
   "id": "e904399e",
   "metadata": {},
   "source": [
    "Now that we have our transformer ready, let's try transform one message"
   ]
  },
  {
   "cell_type": "code",
   "execution_count": 770,
   "id": "27370152",
   "metadata": {},
   "outputs": [
    {
     "name": "stdout",
     "output_type": "stream",
     "text": [
      "U dun say so early hor... U c already then say...\n"
     ]
    }
   ],
   "source": [
    "# let's try trasnform one row from training list\n",
    "\n",
    "mess1 = messages['message'][3]\n",
    "print(mess1)"
   ]
  },
  {
   "cell_type": "code",
   "execution_count": 771,
   "id": "8c65f365",
   "metadata": {},
   "outputs": [
    {
     "name": "stdout",
     "output_type": "stream",
     "text": [
      "  (0, 4068)\t2\n",
      "  (0, 4629)\t1\n",
      "  (0, 5261)\t1\n",
      "  (0, 6204)\t1\n",
      "  (0, 6222)\t1\n",
      "  (0, 7186)\t1\n",
      "  (0, 9554)\t2\n"
     ]
    }
   ],
   "source": [
    "# bag of words for mess1 \n",
    "\n",
    "bow1 = bow_transformer.transform([mess1])\n",
    "print(bow1)"
   ]
  },
  {
   "cell_type": "code",
   "execution_count": 773,
   "id": "cdfa6997",
   "metadata": {},
   "outputs": [
    {
     "name": "stdout",
     "output_type": "stream",
     "text": [
      "U\n",
      "already\n",
      "c\n"
     ]
    }
   ],
   "source": [
    "# let's explore what the vector referring to\n",
    "\n",
    "print(bow_transformer.get_feature_names()[4068])\n",
    "print(bow_transformer.get_feature_names()[4629])\n",
    "print(bow_transformer.get_feature_names()[5261])"
   ]
  },
  {
   "cell_type": "markdown",
   "id": "de11f163",
   "metadata": {},
   "source": [
    "From above result, we can see that some words are missing. This is because, those are common words which has been removed during processing step. <br/>\n",
    "\n",
    "Now that everything works fine, let's transform the whole 'message' column.<br/>\n",
    "The vector will be stored in sparse matrix form."
   ]
  },
  {
   "cell_type": "code",
   "execution_count": 774,
   "id": "d457dca7",
   "metadata": {},
   "outputs": [],
   "source": [
    "# bag-of-words for message column\n",
    "\n",
    "messages_bow = bow_transformer.transform(messages['message'])"
   ]
  },
  {
   "cell_type": "code",
   "execution_count": 775,
   "id": "430f5f6d",
   "metadata": {},
   "outputs": [
    {
     "name": "stdout",
     "output_type": "stream",
     "text": [
      "Shape of Sparse Matrix :  (5572, 11425)\n"
     ]
    }
   ],
   "source": [
    "# shape of the sparse matrix\n",
    "\n",
    "print('Shape of Sparse Matrix : ', messages_bow.shape)"
   ]
  },
  {
   "cell_type": "code",
   "execution_count": 776,
   "id": "d1ed008a",
   "metadata": {},
   "outputs": [
    {
     "data": {
      "text/plain": [
       "50548"
      ]
     },
     "execution_count": 776,
     "metadata": {},
     "output_type": "execute_result"
    }
   ],
   "source": [
    "# count of non zero occurences\n",
    "\n",
    "messages_bow.nnz"
   ]
  },
  {
   "cell_type": "markdown",
   "id": "09419cf0",
   "metadata": {},
   "source": [
    "Now that we have matrix of term frequency ready, let's weigh and normalize it using TF-IDF in scikit-learn.<br/>\n",
    "\n",
    "(TF - for normalization<br/>\n",
    " IDF - for weighting)"
   ]
  },
  {
   "cell_type": "code",
   "execution_count": 777,
   "id": "88913719",
   "metadata": {},
   "outputs": [],
   "source": [
    "# Term Frequency Inverse Document Frequency (TFIDF)\n",
    "\n",
    "from sklearn.feature_extraction.text import TfidfTransformer"
   ]
  },
  {
   "cell_type": "code",
   "execution_count": 778,
   "id": "f63dfb72",
   "metadata": {},
   "outputs": [],
   "source": [
    "# tfidf of the bag-of-words of the message column\n",
    "\n",
    "tfidf_transformer = TfidfTransformer().fit(messages_bow)"
   ]
  },
  {
   "cell_type": "markdown",
   "id": "05b5ce32",
   "metadata": {},
   "source": [
    "Since the TFIDF transformer is ready, let's try it on the message[1] that we used previously and try to find the TFIDF of a word."
   ]
  },
  {
   "cell_type": "code",
   "execution_count": 779,
   "id": "a8903cfe",
   "metadata": {},
   "outputs": [],
   "source": [
    "# let's try find TFIDF of one of the vector of bag-of-word\n",
    "\n",
    "tfidf1 = tfidf_transformer.transform(bow1)"
   ]
  },
  {
   "cell_type": "code",
   "execution_count": 780,
   "id": "71edc0fc",
   "metadata": {},
   "outputs": [
    {
     "name": "stdout",
     "output_type": "stream",
     "text": [
      "  (0, 9554)\t0.5385626262927564\n",
      "  (0, 7186)\t0.4389365653379857\n",
      "  (0, 6222)\t0.3187216892949149\n",
      "  (0, 6204)\t0.29953799723697416\n",
      "  (0, 5261)\t0.29729957405868723\n",
      "  (0, 4629)\t0.26619801906087187\n",
      "  (0, 4068)\t0.40832589933384067\n"
     ]
    }
   ],
   "source": [
    "print(tfidf1)"
   ]
  },
  {
   "cell_type": "code",
   "execution_count": 781,
   "id": "16685e6e",
   "metadata": {},
   "outputs": [
    {
     "data": {
      "text/plain": [
       "8.527076498901426"
      ]
     },
     "execution_count": 781,
     "metadata": {},
     "output_type": "execute_result"
    }
   ],
   "source": [
    "# if want to find the TFIDF of a word :\n",
    "\n",
    "tfidf_transformer.idf_[bow_transformer.vocabulary_['university']]"
   ]
  },
  {
   "cell_type": "markdown",
   "id": "85573513",
   "metadata": {},
   "source": [
    "Now that everything works fine, let's transform it on the whole 'message' column."
   ]
  },
  {
   "cell_type": "code",
   "execution_count": 782,
   "id": "6dc17ed6",
   "metadata": {},
   "outputs": [],
   "source": [
    "# TFIDF of bag-of-word of message column\n",
    "\n",
    "messages_tfidf = tfidf_transformer.transform(messages_bow)"
   ]
  },
  {
   "cell_type": "markdown",
   "id": "b92848bc",
   "metadata": {},
   "source": [
    "# SPLIT DATA INTO TRAINING AND TESTING DATA\n",
    "\n",
    "Our data has been transformed into a form that machine learning can read. <br/>\n",
    "Before we move to the model building, let's split the cleaned data into training and testing dataset."
   ]
  },
  {
   "cell_type": "code",
   "execution_count": 785,
   "id": "b1047b03",
   "metadata": {},
   "outputs": [],
   "source": [
    "X = messages_tfidf\n",
    "y = messages['label']\n",
    "\n",
    "from sklearn.model_selection import train_test_split\n",
    "msg_train, msg_test, label_train, label_test = train_test_split(X, y, test_size=0.3)"
   ]
  },
  {
   "cell_type": "markdown",
   "id": "68bf973a",
   "metadata": {},
   "source": [
    "# MODELLING, PREDICTION & EVALUATION\n",
    "\n",
    "We will use Naive Bayes as the classifier."
   ]
  },
  {
   "cell_type": "code",
   "execution_count": 786,
   "id": "11257be3",
   "metadata": {},
   "outputs": [],
   "source": [
    "from sklearn.naive_bayes import MultinomialNB"
   ]
  },
  {
   "cell_type": "code",
   "execution_count": 790,
   "id": "91579f1e",
   "metadata": {},
   "outputs": [],
   "source": [
    "spam_detect_model = MultinomialNB().fit(msg_train, label_train)"
   ]
  },
  {
   "cell_type": "code",
   "execution_count": 800,
   "id": "3f706600",
   "metadata": {},
   "outputs": [],
   "source": [
    "# PREDICTION\n",
    "\n",
    "predictions = spam_detect_model.predict(msg_test)"
   ]
  },
  {
   "cell_type": "code",
   "execution_count": 792,
   "id": "28f584ed",
   "metadata": {},
   "outputs": [
    {
     "name": "stdout",
     "output_type": "stream",
     "text": [
      "              precision    recall  f1-score   support\n",
      "\n",
      "         ham       0.95      1.00      0.98      1457\n",
      "        spam       1.00      0.67      0.81       215\n",
      "\n",
      "    accuracy                           0.96      1672\n",
      "   macro avg       0.98      0.84      0.89      1672\n",
      "weighted avg       0.96      0.96      0.95      1672\n",
      "\n",
      "[[1457    0]\n",
      " [  70  145]]\n"
     ]
    }
   ],
   "source": [
    "# EVALUATIONS\n",
    "\n",
    "from sklearn.metrics import classification_report, confusion_matrix\n",
    "\n",
    "print(classification_report(label_test, predictions))\n",
    "print(confusion_matrix(label_test, predictions))"
   ]
  },
  {
   "cell_type": "markdown",
   "id": "40d2e52a",
   "metadata": {},
   "source": [
    "Looking at the above report, we can say that our model is quite good to classify the email, whether it's a spam or a normal messages."
   ]
  },
  {
   "cell_type": "markdown",
   "id": "75f847d4",
   "metadata": {},
   "source": [
    "# PIPELINE\n",
    "\n",
    "A simpler method to transform, normalize and do modelling, we can use pipeline function.<br/>\n",
    "We just need to pass in transformer and classifier as the arguments. See below."
   ]
  },
  {
   "cell_type": "code",
   "execution_count": 811,
   "id": "f69f4726",
   "metadata": {},
   "outputs": [],
   "source": [
    "# let's split the original messages\n",
    "\n",
    "msg_train_2, msg_test_2, label_train_2, label_test_2 = train_test_split(messages['message'], \n",
    "                                                                        messages['label'],\n",
    "                                                                        test_size=0.3)"
   ]
  },
  {
   "cell_type": "code",
   "execution_count": 812,
   "id": "a6373150",
   "metadata": {},
   "outputs": [],
   "source": [
    "pipeline = Pipeline([\n",
    "    ('bow', CountVectorizer(analyzer=text_preprocessing)),\n",
    "    ('tfidf', TfidfTransformer()),\n",
    "    ('classified', MultinomialNB())\n",
    "])"
   ]
  },
  {
   "cell_type": "code",
   "execution_count": 813,
   "id": "9e20cb70",
   "metadata": {},
   "outputs": [
    {
     "data": {
      "text/plain": [
       "Pipeline(steps=[('bow',\n",
       "                 CountVectorizer(analyzer=<function text_preprocessing at 0x0000011702C7A040>)),\n",
       "                ('tfidf', TfidfTransformer()),\n",
       "                ('classified', MultinomialNB())])"
      ]
     },
     "execution_count": 813,
     "metadata": {},
     "output_type": "execute_result"
    }
   ],
   "source": [
    "pipeline.fit(msg_train_2, label_train_2)"
   ]
  },
  {
   "cell_type": "code",
   "execution_count": 815,
   "id": "208ce66e",
   "metadata": {},
   "outputs": [],
   "source": [
    "predictions2 = pipeline.predict(msg_test_2)"
   ]
  },
  {
   "cell_type": "code",
   "execution_count": 816,
   "id": "87e788ff",
   "metadata": {},
   "outputs": [
    {
     "name": "stdout",
     "output_type": "stream",
     "text": [
      "              precision    recall  f1-score   support\n",
      "\n",
      "         ham       0.95      1.00      0.98      1445\n",
      "        spam       1.00      0.69      0.82       227\n",
      "\n",
      "    accuracy                           0.96      1672\n",
      "   macro avg       0.98      0.85      0.90      1672\n",
      "weighted avg       0.96      0.96      0.95      1672\n",
      "\n",
      "[[1445    0]\n",
      " [  70  157]]\n"
     ]
    }
   ],
   "source": [
    "print(classification_report(label_test_2, predictions2))\n",
    "print(confusion_matrix(label_test_2, predictions2))"
   ]
  }
 ],
 "metadata": {
  "kernelspec": {
   "display_name": "Python 3 (ipykernel)",
   "language": "python",
   "name": "python3"
  },
  "language_info": {
   "codemirror_mode": {
    "name": "ipython",
    "version": 3
   },
   "file_extension": ".py",
   "mimetype": "text/x-python",
   "name": "python",
   "nbconvert_exporter": "python",
   "pygments_lexer": "ipython3",
   "version": "3.9.13"
  }
 },
 "nbformat": 4,
 "nbformat_minor": 5
}
